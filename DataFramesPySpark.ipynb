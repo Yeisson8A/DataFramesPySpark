{
  "nbformat": 4,
  "nbformat_minor": 0,
  "metadata": {
    "colab": {
      "provenance": []
    },
    "kernelspec": {
      "name": "python3",
      "display_name": "Python 3"
    },
    "language_info": {
      "name": "python"
    }
  },
  "cells": [
    {
      "cell_type": "markdown",
      "source": [
        "**Instalar JDK, SPARK, and HADOOP3+Scala**"
      ],
      "metadata": {
        "id": "CkJX3lz_NaDr"
      }
    },
    {
      "cell_type": "code",
      "execution_count": 1,
      "metadata": {
        "id": "fys6zkuUM499"
      },
      "outputs": [],
      "source": [
        "!apt-get install openjdk-17-jdk-headless -qq > /dev/null"
      ]
    },
    {
      "cell_type": "code",
      "source": [
        "!wget -q https://archive.apache.org/dist/spark/spark-3.5.0/spark-3.5.0-bin-hadoop3-scala2.13.tgz"
      ],
      "metadata": {
        "id": "iTOeZssANgBa"
      },
      "execution_count": 2,
      "outputs": []
    },
    {
      "cell_type": "code",
      "source": [
        "# Descomprimir\n",
        "!tar -xf spark-3.5.0-bin-hadoop3-scala2.13.tgz"
      ],
      "metadata": {
        "id": "tGyMROdONjJi"
      },
      "execution_count": 3,
      "outputs": []
    },
    {
      "cell_type": "code",
      "source": [
        "!ls -af"
      ],
      "metadata": {
        "colab": {
          "base_uri": "https://localhost:8080/"
        },
        "id": "iVcgNGh4Ntuh",
        "outputId": "2167b210-0496-4f41-83a1-206cda95434e"
      },
      "execution_count": 4,
      "outputs": [
        {
          "output_type": "stream",
          "name": "stdout",
          "text": [
            "..\t .\t\t\t\t    spark-3.5.0-bin-hadoop3-scala2.13.tgz\n",
            ".config  spark-3.5.0-bin-hadoop3-scala2.13  sample_data\n"
          ]
        }
      ]
    },
    {
      "cell_type": "code",
      "source": [
        "# Variables de entorno\n",
        "import os\n",
        "os.environ[\"JAVA_HOME\"] = \"/usr/lib/jvm/java-17-openjdk-amd64\"\n",
        "os.environ[\"SPARK_HOME\"] = '/content/spark-3.5.0-bin-hadoop3-scala2.13'"
      ],
      "metadata": {
        "id": "MpLgStshNzOC"
      },
      "execution_count": 5,
      "outputs": []
    },
    {
      "cell_type": "code",
      "source": [
        "# Instalar findspark\n",
        "!pip install -q findspark"
      ],
      "metadata": {
        "id": "y5qmTdU_N-zK"
      },
      "execution_count": 6,
      "outputs": []
    },
    {
      "cell_type": "markdown",
      "source": [
        "**Librerias**"
      ],
      "metadata": {
        "id": "949Wx2NoONQa"
      }
    },
    {
      "cell_type": "code",
      "source": [
        "import findspark\n",
        "findspark.init()"
      ],
      "metadata": {
        "id": "Ur8coeSZOHki"
      },
      "execution_count": 7,
      "outputs": []
    },
    {
      "cell_type": "code",
      "source": [
        "from pyspark.sql import SparkSession"
      ],
      "metadata": {
        "id": "sRSZVJKvOT9S"
      },
      "execution_count": 8,
      "outputs": []
    },
    {
      "cell_type": "markdown",
      "source": [
        "**Crear spark session**"
      ],
      "metadata": {
        "id": "NX4rTTF0SJhp"
      }
    },
    {
      "cell_type": "code",
      "source": [
        "spark = SparkSession.builder.appName('firstSession')\\\n",
        "                    .config('spark.master', 'local[4]')\\\n",
        "                    .config('spark.shuffle.sql.partitions', 1)\\\n",
        "                    .getOrCreate()"
      ],
      "metadata": {
        "id": "Ala0yA8fSMa6"
      },
      "execution_count": 9,
      "outputs": []
    },
    {
      "cell_type": "markdown",
      "source": [
        "**Crear tabla a partir de una lista**"
      ],
      "metadata": {
        "id": "mcaLjfRzSVHC"
      }
    },
    {
      "cell_type": "code",
      "source": [
        "columnas = ['id', 'nombre', 'edad']\n",
        "lista = [\n",
        "    (1, 'Pedro', 30),\n",
        "    (2, 'Juan', 20),\n",
        "    (3, 'Juliana', 25),\n",
        "    (4, 'Nicol', 24),\n",
        "    (5, 'Daniela', 28)\n",
        "]"
      ],
      "metadata": {
        "id": "54AOL2GHSYib"
      },
      "execution_count": 11,
      "outputs": []
    },
    {
      "cell_type": "code",
      "source": [
        "df_1 = spark.createDataFrame(lista, schema=columnas)"
      ],
      "metadata": {
        "id": "4WB0uTpWSdAJ"
      },
      "execution_count": 12,
      "outputs": []
    },
    {
      "cell_type": "code",
      "source": [
        "df_1.columns"
      ],
      "metadata": {
        "colab": {
          "base_uri": "https://localhost:8080/"
        },
        "id": "FrWnfk-qSgaa",
        "outputId": "5e7e10f6-9b91-44ff-9a92-307aae590746"
      },
      "execution_count": 13,
      "outputs": [
        {
          "output_type": "execute_result",
          "data": {
            "text/plain": [
              "['id', 'nombre', 'edad']"
            ]
          },
          "metadata": {},
          "execution_count": 13
        }
      ]
    },
    {
      "cell_type": "code",
      "source": [
        "df_1.printSchema()"
      ],
      "metadata": {
        "colab": {
          "base_uri": "https://localhost:8080/"
        },
        "id": "YNvIUVr4SjdB",
        "outputId": "4374678b-26ea-40f8-8bf2-7a1f329ce0de"
      },
      "execution_count": 14,
      "outputs": [
        {
          "output_type": "stream",
          "name": "stdout",
          "text": [
            "root\n",
            " |-- id: long (nullable = true)\n",
            " |-- nombre: string (nullable = true)\n",
            " |-- edad: long (nullable = true)\n",
            "\n"
          ]
        }
      ]
    },
    {
      "cell_type": "code",
      "source": [
        "df_1.show()"
      ],
      "metadata": {
        "colab": {
          "base_uri": "https://localhost:8080/"
        },
        "id": "hxDw-rv5Smch",
        "outputId": "757bc60e-8468-44c8-dfd5-2e0d30e0983a"
      },
      "execution_count": 15,
      "outputs": [
        {
          "output_type": "stream",
          "name": "stdout",
          "text": [
            "+---+-------+----+\n",
            "| id| nombre|edad|\n",
            "+---+-------+----+\n",
            "|  1|  Pedro|  30|\n",
            "|  2|   Juan|  20|\n",
            "|  3|Juliana|  25|\n",
            "|  4|  Nicol|  24|\n",
            "|  5|Daniela|  28|\n",
            "+---+-------+----+\n",
            "\n"
          ]
        }
      ]
    },
    {
      "cell_type": "code",
      "source": [
        "df_1.describe().show()"
      ],
      "metadata": {
        "colab": {
          "base_uri": "https://localhost:8080/"
        },
        "id": "8f75dpWDTfii",
        "outputId": "fdd499ff-d8cc-439d-ac74-3e4193b60276"
      },
      "execution_count": 16,
      "outputs": [
        {
          "output_type": "stream",
          "name": "stdout",
          "text": [
            "+-------+------------------+-------+-----------------+\n",
            "|summary|                id| nombre|             edad|\n",
            "+-------+------------------+-------+-----------------+\n",
            "|  count|                 5|      5|                5|\n",
            "|   mean|               3.0|   NULL|             25.4|\n",
            "| stddev|1.5811388300841898|   NULL|3.847076812334269|\n",
            "|    min|                 1|Daniela|               20|\n",
            "|    max|                 5|  Pedro|               30|\n",
            "+-------+------------------+-------+-----------------+\n",
            "\n"
          ]
        }
      ]
    },
    {
      "cell_type": "code",
      "source": [
        "from pyspark.sql.types import StructType, StructField, IntegerType, StringType"
      ],
      "metadata": {
        "id": "movMcNCFT_xi"
      },
      "execution_count": 17,
      "outputs": []
    },
    {
      "cell_type": "code",
      "source": [
        "schema_1 = StructType([\n",
        "    StructField('id', IntegerType(), True),\n",
        "    StructField('nombre', StringType(), True),\n",
        "    StructField('edad', IntegerType(), True)\n",
        "])"
      ],
      "metadata": {
        "id": "4C2wZUNVUTWp"
      },
      "execution_count": 18,
      "outputs": []
    },
    {
      "cell_type": "code",
      "source": [
        "df_1 = spark.createDataFrame(lista, schema=schema_1)"
      ],
      "metadata": {
        "id": "L95Vx6RXUkAh"
      },
      "execution_count": 19,
      "outputs": []
    },
    {
      "cell_type": "code",
      "source": [
        "df_1.printSchema()"
      ],
      "metadata": {
        "colab": {
          "base_uri": "https://localhost:8080/"
        },
        "id": "Zcjh0jGHUsl5",
        "outputId": "1a39d749-4bca-4865-bda8-e1e45250b675"
      },
      "execution_count": 20,
      "outputs": [
        {
          "output_type": "stream",
          "name": "stdout",
          "text": [
            "root\n",
            " |-- id: integer (nullable = true)\n",
            " |-- nombre: string (nullable = true)\n",
            " |-- edad: integer (nullable = true)\n",
            "\n"
          ]
        }
      ]
    },
    {
      "cell_type": "markdown",
      "source": [
        "**Crear tabla a partir de un CSV**"
      ],
      "metadata": {
        "id": "CUCzs9_UVIJy"
      }
    },
    {
      "cell_type": "code",
      "source": [
        "from google.colab import drive\n",
        "drive.mount('/content/drive')"
      ],
      "metadata": {
        "colab": {
          "base_uri": "https://localhost:8080/"
        },
        "id": "g1sTCJ7hVLO6",
        "outputId": "8ba1cae1-0b64-4a42-f6ab-b2d684a87993"
      },
      "execution_count": 10,
      "outputs": [
        {
          "output_type": "stream",
          "name": "stdout",
          "text": [
            "Mounted at /content/drive\n"
          ]
        }
      ]
    },
    {
      "cell_type": "code",
      "source": [
        "df = spark.read.csv(\"/content/drive/MyDrive/Cursos/Hadoop y Spark/Data/business.csv\", sep=',', header=True)"
      ],
      "metadata": {
        "id": "al_GBYL8Wcu5"
      },
      "execution_count": 22,
      "outputs": []
    },
    {
      "cell_type": "code",
      "source": [
        "df.count()"
      ],
      "metadata": {
        "colab": {
          "base_uri": "https://localhost:8080/"
        },
        "id": "AmekyRtRW3Up",
        "outputId": "8d61c8e8-bd04-4a2e-e40d-5d04e92e523b"
      },
      "execution_count": 24,
      "outputs": [
        {
          "output_type": "execute_result",
          "data": {
            "text/plain": [
              "1936"
            ]
          },
          "metadata": {},
          "execution_count": 24
        }
      ]
    },
    {
      "cell_type": "code",
      "source": [
        "df.show(10, truncate=False)"
      ],
      "metadata": {
        "colab": {
          "base_uri": "https://localhost:8080/"
        },
        "id": "2v311hlwW9xh",
        "outputId": "844d662a-2315-47b9-edd2-0aa3b4706c91"
      },
      "execution_count": 27,
      "outputs": [
        {
          "output_type": "stream",
          "name": "stdout",
          "text": [
            "+----------------+-------+----------+----------+------+-------+---------+------------------------------+------------------------------+------------------------+--------------------+--------------+--------------+--------------+\n",
            "|Series_reference|Period |Data_value|Suppressed|STATUS|UNITS  |Magnitude|Subject                       |Group                         |Series_title_1          |Series_title_2      |Series_title_3|Series_title_4|Series_title_5|\n",
            "+----------------+-------+----------+----------+------+-------+---------+------------------------------+------------------------------+------------------------+--------------------+--------------+--------------+--------------+\n",
            "|BDCQ.SF1AA2CA   |2016.06|1116.386  |NULL      |F     |Dollars|6        |Business Data Collection - BDC|Industry by financial variable|Sales (operating income)|Forestry and Logging|Current prices|Unadjusted    |NULL          |\n",
            "|BDCQ.SF1AA2CA   |2016.09|1070.874  |NULL      |F     |Dollars|6        |Business Data Collection - BDC|Industry by financial variable|Sales (operating income)|Forestry and Logging|Current prices|Unadjusted    |NULL          |\n",
            "|BDCQ.SF1AA2CA   |2016.12|1054.408  |NULL      |F     |Dollars|6        |Business Data Collection - BDC|Industry by financial variable|Sales (operating income)|Forestry and Logging|Current prices|Unadjusted    |NULL          |\n",
            "|BDCQ.SF1AA2CA   |2017.03|1010.665  |NULL      |F     |Dollars|6        |Business Data Collection - BDC|Industry by financial variable|Sales (operating income)|Forestry and Logging|Current prices|Unadjusted    |NULL          |\n",
            "|BDCQ.SF1AA2CA   |2017.06|1233.7    |NULL      |F     |Dollars|6        |Business Data Collection - BDC|Industry by financial variable|Sales (operating income)|Forestry and Logging|Current prices|Unadjusted    |NULL          |\n",
            "|BDCQ.SF1AA2CA   |2017.09|1282.436  |NULL      |F     |Dollars|6        |Business Data Collection - BDC|Industry by financial variable|Sales (operating income)|Forestry and Logging|Current prices|Unadjusted    |NULL          |\n",
            "|BDCQ.SF1AA2CA   |2017.12|1290.82   |NULL      |F     |Dollars|6        |Business Data Collection - BDC|Industry by financial variable|Sales (operating income)|Forestry and Logging|Current prices|Unadjusted    |NULL          |\n",
            "|BDCQ.SF1AA2CA   |2018.03|1412.007  |NULL      |F     |Dollars|6        |Business Data Collection - BDC|Industry by financial variable|Sales (operating income)|Forestry and Logging|Current prices|Unadjusted    |NULL          |\n",
            "|BDCQ.SF1AA2CA   |2018.06|1488.055  |NULL      |F     |Dollars|6        |Business Data Collection - BDC|Industry by financial variable|Sales (operating income)|Forestry and Logging|Current prices|Unadjusted    |NULL          |\n",
            "|BDCQ.SF1AA2CA   |2018.09|1497.678  |NULL      |F     |Dollars|6        |Business Data Collection - BDC|Industry by financial variable|Sales (operating income)|Forestry and Logging|Current prices|Unadjusted    |NULL          |\n",
            "+----------------+-------+----------+----------+------+-------+---------+------------------------------+------------------------------+------------------------+--------------------+--------------+--------------+--------------+\n",
            "only showing top 10 rows\n",
            "\n"
          ]
        }
      ]
    },
    {
      "cell_type": "code",
      "source": [
        "df.printSchema()"
      ],
      "metadata": {
        "colab": {
          "base_uri": "https://localhost:8080/"
        },
        "id": "L-ZoeqL8Xe0y",
        "outputId": "4891ddb1-ea24-49f1-d370-0b12e3bfbbf2"
      },
      "execution_count": 28,
      "outputs": [
        {
          "output_type": "stream",
          "name": "stdout",
          "text": [
            "root\n",
            " |-- Series_reference: string (nullable = true)\n",
            " |-- Period: string (nullable = true)\n",
            " |-- Data_value: string (nullable = true)\n",
            " |-- Suppressed: string (nullable = true)\n",
            " |-- STATUS: string (nullable = true)\n",
            " |-- UNITS: string (nullable = true)\n",
            " |-- Magnitude: string (nullable = true)\n",
            " |-- Subject: string (nullable = true)\n",
            " |-- Group: string (nullable = true)\n",
            " |-- Series_title_1: string (nullable = true)\n",
            " |-- Series_title_2: string (nullable = true)\n",
            " |-- Series_title_3: string (nullable = true)\n",
            " |-- Series_title_4: string (nullable = true)\n",
            " |-- Series_title_5: string (nullable = true)\n",
            "\n"
          ]
        }
      ]
    },
    {
      "cell_type": "markdown",
      "source": [
        "**Guardar dataframe**"
      ],
      "metadata": {
        "id": "G_GyaEIYXv5K"
      }
    },
    {
      "cell_type": "code",
      "source": [
        "df.write.parquet(\"/content/drive/MyDrive/Cursos/Hadoop y Spark/Data/parquet_example\", mode='overwrite')"
      ],
      "metadata": {
        "id": "x488hF5hX06p"
      },
      "execution_count": 29,
      "outputs": []
    },
    {
      "cell_type": "markdown",
      "source": [
        "**Crear tabla a partir de un parquet**"
      ],
      "metadata": {
        "id": "XbZfgq-SYc8a"
      }
    },
    {
      "cell_type": "code",
      "source": [
        "df_p = spark.read.parquet(\"/content/drive/MyDrive/Cursos/Hadoop y Spark/Data/parquet_example\")"
      ],
      "metadata": {
        "id": "SvY9GK77YfkR"
      },
      "execution_count": 11,
      "outputs": []
    },
    {
      "cell_type": "code",
      "source": [
        "df_p.printSchema()"
      ],
      "metadata": {
        "colab": {
          "base_uri": "https://localhost:8080/"
        },
        "id": "BO3IbK9rYjhx",
        "outputId": "3432ba32-28d0-4033-d637-b8f828057027"
      },
      "execution_count": 12,
      "outputs": [
        {
          "output_type": "stream",
          "name": "stdout",
          "text": [
            "root\n",
            " |-- Series_reference: string (nullable = true)\n",
            " |-- Period: string (nullable = true)\n",
            " |-- Data_value: string (nullable = true)\n",
            " |-- Suppressed: string (nullable = true)\n",
            " |-- STATUS: string (nullable = true)\n",
            " |-- UNITS: string (nullable = true)\n",
            " |-- Magnitude: string (nullable = true)\n",
            " |-- Subject: string (nullable = true)\n",
            " |-- Group: string (nullable = true)\n",
            " |-- Series_title_1: string (nullable = true)\n",
            " |-- Series_title_2: string (nullable = true)\n",
            " |-- Series_title_3: string (nullable = true)\n",
            " |-- Series_title_4: string (nullable = true)\n",
            " |-- Series_title_5: string (nullable = true)\n",
            "\n"
          ]
        }
      ]
    },
    {
      "cell_type": "code",
      "source": [
        "df_p.show(10, truncate=False)"
      ],
      "metadata": {
        "colab": {
          "base_uri": "https://localhost:8080/"
        },
        "id": "4bUBIawkYny0",
        "outputId": "bd1be616-42f6-4577-d958-ac191bd1dd3a"
      },
      "execution_count": 13,
      "outputs": [
        {
          "output_type": "stream",
          "name": "stdout",
          "text": [
            "+----------------+-------+----------+----------+------+-------+---------+------------------------------+------------------------------+------------------------+--------------------+--------------+--------------+--------------+\n",
            "|Series_reference|Period |Data_value|Suppressed|STATUS|UNITS  |Magnitude|Subject                       |Group                         |Series_title_1          |Series_title_2      |Series_title_3|Series_title_4|Series_title_5|\n",
            "+----------------+-------+----------+----------+------+-------+---------+------------------------------+------------------------------+------------------------+--------------------+--------------+--------------+--------------+\n",
            "|BDCQ.SF1AA2CA   |2016.06|1116.386  |NULL      |F     |Dollars|6        |Business Data Collection - BDC|Industry by financial variable|Sales (operating income)|Forestry and Logging|Current prices|Unadjusted    |NULL          |\n",
            "|BDCQ.SF1AA2CA   |2016.09|1070.874  |NULL      |F     |Dollars|6        |Business Data Collection - BDC|Industry by financial variable|Sales (operating income)|Forestry and Logging|Current prices|Unadjusted    |NULL          |\n",
            "|BDCQ.SF1AA2CA   |2016.12|1054.408  |NULL      |F     |Dollars|6        |Business Data Collection - BDC|Industry by financial variable|Sales (operating income)|Forestry and Logging|Current prices|Unadjusted    |NULL          |\n",
            "|BDCQ.SF1AA2CA   |2017.03|1010.665  |NULL      |F     |Dollars|6        |Business Data Collection - BDC|Industry by financial variable|Sales (operating income)|Forestry and Logging|Current prices|Unadjusted    |NULL          |\n",
            "|BDCQ.SF1AA2CA   |2017.06|1233.7    |NULL      |F     |Dollars|6        |Business Data Collection - BDC|Industry by financial variable|Sales (operating income)|Forestry and Logging|Current prices|Unadjusted    |NULL          |\n",
            "|BDCQ.SF1AA2CA   |2017.09|1282.436  |NULL      |F     |Dollars|6        |Business Data Collection - BDC|Industry by financial variable|Sales (operating income)|Forestry and Logging|Current prices|Unadjusted    |NULL          |\n",
            "|BDCQ.SF1AA2CA   |2017.12|1290.82   |NULL      |F     |Dollars|6        |Business Data Collection - BDC|Industry by financial variable|Sales (operating income)|Forestry and Logging|Current prices|Unadjusted    |NULL          |\n",
            "|BDCQ.SF1AA2CA   |2018.03|1412.007  |NULL      |F     |Dollars|6        |Business Data Collection - BDC|Industry by financial variable|Sales (operating income)|Forestry and Logging|Current prices|Unadjusted    |NULL          |\n",
            "|BDCQ.SF1AA2CA   |2018.06|1488.055  |NULL      |F     |Dollars|6        |Business Data Collection - BDC|Industry by financial variable|Sales (operating income)|Forestry and Logging|Current prices|Unadjusted    |NULL          |\n",
            "|BDCQ.SF1AA2CA   |2018.09|1497.678  |NULL      |F     |Dollars|6        |Business Data Collection - BDC|Industry by financial variable|Sales (operating income)|Forestry and Logging|Current prices|Unadjusted    |NULL          |\n",
            "+----------------+-------+----------+----------+------+-------+---------+------------------------------+------------------------------+------------------------+--------------------+--------------+--------------+--------------+\n",
            "only showing top 10 rows\n",
            "\n"
          ]
        }
      ]
    },
    {
      "cell_type": "code",
      "source": [
        "df_p.describe().show()"
      ],
      "metadata": {
        "colab": {
          "base_uri": "https://localhost:8080/"
        },
        "id": "3_Zuc5uzzfiF",
        "outputId": "30ebc543-2e53-47cb-f275-b59e34496d4f"
      },
      "execution_count": 14,
      "outputs": [
        {
          "output_type": "stream",
          "name": "stdout",
          "text": [
            "+-------+----------------+------------------+------------------+----------+------+-------+---------+--------------------+--------------------+--------------------+--------------------+--------------+--------------+--------------+\n",
            "|summary|Series_reference|            Period|        Data_value|Suppressed|STATUS|  UNITS|Magnitude|             Subject|               Group|      Series_title_1|      Series_title_2|Series_title_3|Series_title_4|Series_title_5|\n",
            "+-------+----------------+------------------+------------------+----------+------+-------+---------+--------------------+--------------------+--------------------+--------------------+--------------+--------------+--------------+\n",
            "|  count|            1936|              1936|              1936|         0|  1936|   1936|     1936|                1936|                1936|                1936|                1936|          1936|          1936|             0|\n",
            "|   mean|            NULL| 2018.217975206615|2704.3055568181853|      NULL|  NULL|   NULL|      6.0|                NULL|                NULL|                NULL|                NULL|          NULL|          NULL|          NULL|\n",
            "| stddev|            NULL|1.3594869192539778| 4630.441460229322|      NULL|  NULL|   NULL|      0.0|                NULL|                NULL|                NULL|                NULL|          NULL|          NULL|          NULL|\n",
            "|    min|   BDCQ.SF1AA2CA|           2016.06|          -398.194|      NULL|     F|Dollars|        6|Business Data Col...|Industry by finan...|    Operating profit|Accommodation and...|Current prices|    Unadjusted|          NULL|\n",
            "|    max|   BDCQ.SF8RS2CA|           2020.12|           998.124|      NULL|     R|Dollars|        6|Business Data Col...|Industry by finan...|Sales (operating ...|Wood and Paper Pr...|Current prices|    Unadjusted|          NULL|\n",
            "+-------+----------------+------------------+------------------+----------+------+-------+---------+--------------------+--------------------+--------------------+--------------------+--------------+--------------+--------------+\n",
            "\n"
          ]
        }
      ]
    },
    {
      "cell_type": "code",
      "source": [
        "grouped_df = df_p.groupBy(\"Series_title_2\").agg({\"Series_title_2\": \"count\"})\n",
        "grouped_df.show(truncate=False)"
      ],
      "metadata": {
        "colab": {
          "base_uri": "https://localhost:8080/"
        },
        "id": "4qgHpC2X0Hm6",
        "outputId": "717a9cc9-9199-4d05-ce7b-e534e656daef"
      },
      "execution_count": 17,
      "outputs": [
        {
          "output_type": "stream",
          "name": "stdout",
          "text": [
            "+---------------------------------------------------------------------------+---------------------+\n",
            "|Series_title_2                                                             |count(Series_title_2)|\n",
            "+---------------------------------------------------------------------------+---------------------+\n",
            "|Other Services                                                             |76                   |\n",
            "|Food, Beverage and Tobacco Product Manufacturing                           |76                   |\n",
            "|Mining                                                                     |76                   |\n",
            "|Administrative and Support Services                                        |76                   |\n",
            "|Arts and Recreation Services                                               |76                   |\n",
            "|Printing                                                                   |76                   |\n",
            "|Fishing, Aquaculture and Agriculture, Forestry and Fishing Support Services|76                   |\n",
            "|Accommodation and Food Services                                            |56                   |\n",
            "|Construction                                                               |76                   |\n",
            "|Professional, Scientific and Technical Services                            |76                   |\n",
            "|Transport, Postal and Warehousing                                          |76                   |\n",
            "|Metal Product Manufacturing                                                |76                   |\n",
            "|Transport Equipment, Machinery and Equipment Manufacturing                 |76                   |\n",
            "|Petroleum, Chemical, Polymer and Rubber Product Manufacturing              |76                   |\n",
            "|Forestry and Logging                                                       |76                   |\n",
            "|Education and Training                                                     |76                   |\n",
            "|Information Media and Telecommunications                                   |76                   |\n",
            "|Non-Metallic Mineral Product Manufacturing                                 |76                   |\n",
            "|Furniture and Other Manufacturing                                          |76                   |\n",
            "|Rental, Hiring and Real Estate Services                                    |76                   |\n",
            "+---------------------------------------------------------------------------+---------------------+\n",
            "only showing top 20 rows\n",
            "\n"
          ]
        }
      ]
    },
    {
      "cell_type": "code",
      "source": [
        "filtered_df = df_p.filter(df_p[\"Series_title_2\"] == \"Other Services\")\n",
        "filtered_df.show(truncate=False)"
      ],
      "metadata": {
        "colab": {
          "base_uri": "https://localhost:8080/"
        },
        "id": "g8JBZqly05FL",
        "outputId": "bc7659b3-b409-431d-a87e-5a06308271bf"
      },
      "execution_count": 18,
      "outputs": [
        {
          "output_type": "stream",
          "name": "stdout",
          "text": [
            "+----------------+-------+----------+----------+------+-------+---------+------------------------------+------------------------------+-----------------------------------+--------------+--------------+--------------+--------------+\n",
            "|Series_reference|Period |Data_value|Suppressed|STATUS|UNITS  |Magnitude|Subject                       |Group                         |Series_title_1                     |Series_title_2|Series_title_3|Series_title_4|Series_title_5|\n",
            "+----------------+-------+----------+----------+------+-------+---------+------------------------------+------------------------------+-----------------------------------+--------------+--------------+--------------+--------------+\n",
            "|BDCQ.SF1RS2CA   |2016.06|2024.111  |NULL      |F     |Dollars|6        |Business Data Collection - BDC|Industry by financial variable|Sales (operating income)           |Other Services|Current prices|Unadjusted    |NULL          |\n",
            "|BDCQ.SF1RS2CA   |2016.09|2130.915  |NULL      |F     |Dollars|6        |Business Data Collection - BDC|Industry by financial variable|Sales (operating income)           |Other Services|Current prices|Unadjusted    |NULL          |\n",
            "|BDCQ.SF1RS2CA   |2016.12|2212.397  |NULL      |F     |Dollars|6        |Business Data Collection - BDC|Industry by financial variable|Sales (operating income)           |Other Services|Current prices|Unadjusted    |NULL          |\n",
            "|BDCQ.SF1RS2CA   |2017.03|2106.601  |NULL      |F     |Dollars|6        |Business Data Collection - BDC|Industry by financial variable|Sales (operating income)           |Other Services|Current prices|Unadjusted    |NULL          |\n",
            "|BDCQ.SF1RS2CA   |2017.06|2214.264  |NULL      |F     |Dollars|6        |Business Data Collection - BDC|Industry by financial variable|Sales (operating income)           |Other Services|Current prices|Unadjusted    |NULL          |\n",
            "|BDCQ.SF1RS2CA   |2017.09|2272.563  |NULL      |F     |Dollars|6        |Business Data Collection - BDC|Industry by financial variable|Sales (operating income)           |Other Services|Current prices|Unadjusted    |NULL          |\n",
            "|BDCQ.SF1RS2CA   |2017.12|2304.067  |NULL      |F     |Dollars|6        |Business Data Collection - BDC|Industry by financial variable|Sales (operating income)           |Other Services|Current prices|Unadjusted    |NULL          |\n",
            "|BDCQ.SF1RS2CA   |2018.03|2159.722  |NULL      |F     |Dollars|6        |Business Data Collection - BDC|Industry by financial variable|Sales (operating income)           |Other Services|Current prices|Unadjusted    |NULL          |\n",
            "|BDCQ.SF1RS2CA   |2018.06|2395.334  |NULL      |F     |Dollars|6        |Business Data Collection - BDC|Industry by financial variable|Sales (operating income)           |Other Services|Current prices|Unadjusted    |NULL          |\n",
            "|BDCQ.SF1RS2CA   |2018.09|2434.241  |NULL      |F     |Dollars|6        |Business Data Collection - BDC|Industry by financial variable|Sales (operating income)           |Other Services|Current prices|Unadjusted    |NULL          |\n",
            "|BDCQ.SF1RS2CA   |2018.12|2441.75   |NULL      |F     |Dollars|6        |Business Data Collection - BDC|Industry by financial variable|Sales (operating income)           |Other Services|Current prices|Unadjusted    |NULL          |\n",
            "|BDCQ.SF1RS2CA   |2019.03|2366.432  |NULL      |F     |Dollars|6        |Business Data Collection - BDC|Industry by financial variable|Sales (operating income)           |Other Services|Current prices|Unadjusted    |NULL          |\n",
            "|BDCQ.SF1RS2CA   |2019.06|2520.395  |NULL      |F     |Dollars|6        |Business Data Collection - BDC|Industry by financial variable|Sales (operating income)           |Other Services|Current prices|Unadjusted    |NULL          |\n",
            "|BDCQ.SF1RS2CA   |2019.09|2562.344  |NULL      |F     |Dollars|6        |Business Data Collection - BDC|Industry by financial variable|Sales (operating income)           |Other Services|Current prices|Unadjusted    |NULL          |\n",
            "|BDCQ.SF1RS2CA   |2019.12|2553.098  |NULL      |F     |Dollars|6        |Business Data Collection - BDC|Industry by financial variable|Sales (operating income)           |Other Services|Current prices|Unadjusted    |NULL          |\n",
            "|BDCQ.SF1RS2CA   |2020.03|2364.816  |NULL      |F     |Dollars|6        |Business Data Collection - BDC|Industry by financial variable|Sales (operating income)           |Other Services|Current prices|Unadjusted    |NULL          |\n",
            "|BDCQ.SF1RS2CA   |2020.06|1934.127  |NULL      |F     |Dollars|6        |Business Data Collection - BDC|Industry by financial variable|Sales (operating income)           |Other Services|Current prices|Unadjusted    |NULL          |\n",
            "|BDCQ.SF1RS2CA   |2020.09|2505.344  |NULL      |F     |Dollars|6        |Business Data Collection - BDC|Industry by financial variable|Sales (operating income)           |Other Services|Current prices|Unadjusted    |NULL          |\n",
            "|BDCQ.SF1RS2CA   |2020.12|2674.758  |NULL      |F     |Dollars|6        |Business Data Collection - BDC|Industry by financial variable|Sales (operating income)           |Other Services|Current prices|Unadjusted    |NULL          |\n",
            "|BDCQ.SF2RS2CA   |2016.06|1384.423  |NULL      |F     |Dollars|6        |Business Data Collection - BDC|Industry by financial variable|Purchases and operating expenditure|Other Services|Current prices|Unadjusted    |NULL          |\n",
            "+----------------+-------+----------+----------+------+-------+---------+------------------------------+------------------------------+-----------------------------------+--------------+--------------+--------------+--------------+\n",
            "only showing top 20 rows\n",
            "\n"
          ]
        }
      ]
    },
    {
      "cell_type": "code",
      "source": [
        "selected_df = df_p.select('Period', 'Data_value', 'Subject', 'Group')\n",
        "selected_df.show(truncate=False)"
      ],
      "metadata": {
        "colab": {
          "base_uri": "https://localhost:8080/"
        },
        "id": "OIs8KZ5o1bC7",
        "outputId": "b87a04f3-6e8c-4831-e4de-18d7df0037c5"
      },
      "execution_count": 19,
      "outputs": [
        {
          "output_type": "stream",
          "name": "stdout",
          "text": [
            "+-------+----------+------------------------------+------------------------------+\n",
            "|Period |Data_value|Subject                       |Group                         |\n",
            "+-------+----------+------------------------------+------------------------------+\n",
            "|2016.06|1116.386  |Business Data Collection - BDC|Industry by financial variable|\n",
            "|2016.09|1070.874  |Business Data Collection - BDC|Industry by financial variable|\n",
            "|2016.12|1054.408  |Business Data Collection - BDC|Industry by financial variable|\n",
            "|2017.03|1010.665  |Business Data Collection - BDC|Industry by financial variable|\n",
            "|2017.06|1233.7    |Business Data Collection - BDC|Industry by financial variable|\n",
            "|2017.09|1282.436  |Business Data Collection - BDC|Industry by financial variable|\n",
            "|2017.12|1290.82   |Business Data Collection - BDC|Industry by financial variable|\n",
            "|2018.03|1412.007  |Business Data Collection - BDC|Industry by financial variable|\n",
            "|2018.06|1488.055  |Business Data Collection - BDC|Industry by financial variable|\n",
            "|2018.09|1497.678  |Business Data Collection - BDC|Industry by financial variable|\n",
            "|2018.12|1570.507  |Business Data Collection - BDC|Industry by financial variable|\n",
            "|2019.03|1393.749  |Business Data Collection - BDC|Industry by financial variable|\n",
            "|2019.06|1517.143  |Business Data Collection - BDC|Industry by financial variable|\n",
            "|2019.09|1381.514  |Business Data Collection - BDC|Industry by financial variable|\n",
            "|2019.12|1370.985  |Business Data Collection - BDC|Industry by financial variable|\n",
            "|2020.03|1073.017  |Business Data Collection - BDC|Industry by financial variable|\n",
            "|2020.06|1131.445  |Business Data Collection - BDC|Industry by financial variable|\n",
            "|2020.09|1440.101  |Business Data Collection - BDC|Industry by financial variable|\n",
            "|2020.12|1489.979  |Business Data Collection - BDC|Industry by financial variable|\n",
            "|2016.06|1189.735  |Business Data Collection - BDC|Industry by financial variable|\n",
            "+-------+----------+------------------------------+------------------------------+\n",
            "only showing top 20 rows\n",
            "\n"
          ]
        }
      ]
    },
    {
      "cell_type": "code",
      "source": [
        "sorted_df = df_p.sort(\"Period\")\n",
        "sorted_df.show(truncate=False)"
      ],
      "metadata": {
        "colab": {
          "base_uri": "https://localhost:8080/"
        },
        "id": "ixuLFVG-3pJs",
        "outputId": "17c36def-cccd-4265-c9e0-b673b5f3db6c"
      },
      "execution_count": 28,
      "outputs": [
        {
          "output_type": "stream",
          "name": "stdout",
          "text": [
            "+----------------+-------+----------+----------+------+-------+---------+------------------------------+------------------------------+-----------------------------------+---------------------------------------------------------------------------+--------------+--------------+--------------+\n",
            "|Series_reference|Period |Data_value|Suppressed|STATUS|UNITS  |Magnitude|Subject                       |Group                         |Series_title_1                     |Series_title_2                                                             |Series_title_3|Series_title_4|Series_title_5|\n",
            "+----------------+-------+----------+----------+------+-------+---------+------------------------------+------------------------------+-----------------------------------+---------------------------------------------------------------------------+--------------+--------------+--------------+\n",
            "|BDCQ.SF1EE1CA   |2016.06|13386.067 |NULL      |F     |Dollars|6        |Business Data Collection - BDC|Industry by financial variable|Sales (operating income)           |Construction                                                               |Current prices|Unadjusted    |NULL          |\n",
            "|BDCQ.SF2CC7CA   |2016.06|1702.128  |NULL      |F     |Dollars|6        |Business Data Collection - BDC|Industry by financial variable|Purchases and operating expenditure|Metal Product Manufacturing                                                |Current prices|Unadjusted    |NULL          |\n",
            "|BDCQ.SF1FF1CA   |2016.06|23406.009 |NULL      |F     |Dollars|6        |Business Data Collection - BDC|Industry by financial variable|Sales (operating income)           |Wholesale Trade                                                            |Current prices|Unadjusted    |NULL          |\n",
            "|BDCQ.SF1AA3CA   |2016.06|1189.735  |NULL      |F     |Dollars|6        |Business Data Collection - BDC|Industry by financial variable|Sales (operating income)           |Fishing, Aquaculture and Agriculture, Forestry and Fishing Support Services|Current prices|Unadjusted    |NULL          |\n",
            "|BDCQ.SF1II1CA   |2016.06|7024.368  |NULL      |R     |Dollars|6        |Business Data Collection - BDC|Industry by financial variable|Sales (operating income)           |Transport, Postal and Warehousing                                          |Current prices|Unadjusted    |NULL          |\n",
            "|BDCQ.SF1CC1CA   |2016.06|10624.465 |NULL      |F     |Dollars|6        |Business Data Collection - BDC|Industry by financial variable|Sales (operating income)           |Food, Beverage and Tobacco Product Manufacturing                           |Current prices|Unadjusted    |NULL          |\n",
            "|BDCQ.SF1JJ1CA   |2016.06|3497.474  |NULL      |F     |Dollars|6        |Business Data Collection - BDC|Industry by financial variable|Sales (operating income)           |Information Media and Telecommunications                                   |Current prices|Unadjusted    |NULL          |\n",
            "|BDCQ.SF1CC3CA   |2016.06|2247.71   |NULL      |F     |Dollars|6        |Business Data Collection - BDC|Industry by financial variable|Sales (operating income)           |Wood and Paper Products Manufacturing                                      |Current prices|Unadjusted    |NULL          |\n",
            "|BDCQ.SF1LL1CA   |2016.06|6792.689  |NULL      |F     |Dollars|6        |Business Data Collection - BDC|Industry by financial variable|Sales (operating income)           |Rental, Hiring and Real Estate Services                                    |Current prices|Unadjusted    |NULL          |\n",
            "|BDCQ.SF1CC5CA   |2016.06|3734.807  |NULL      |F     |Dollars|6        |Business Data Collection - BDC|Industry by financial variable|Sales (operating income)           |Petroleum, Chemical, Polymer and Rubber Product Manufacturing              |Current prices|Unadjusted    |NULL          |\n",
            "|BDCQ.SF1MN1CA   |2016.06|8922.96   |NULL      |F     |Dollars|6        |Business Data Collection - BDC|Industry by financial variable|Sales (operating income)           |Professional, Scientific and Technical Services                            |Current prices|Unadjusted    |NULL          |\n",
            "|BDCQ.SF1CC7CA   |2016.06|2432.778  |NULL      |F     |Dollars|6        |Business Data Collection - BDC|Industry by financial variable|Sales (operating income)           |Metal Product Manufacturing                                                |Current prices|Unadjusted    |NULL          |\n",
            "|BDCQ.SF1MN2CA   |2016.06|4110.343  |NULL      |F     |Dollars|6        |Business Data Collection - BDC|Industry by financial variable|Sales (operating income)           |Administrative and Support Services                                        |Current prices|Unadjusted    |NULL          |\n",
            "|BDCQ.SF1CC9CA   |2016.06|475.38    |NULL      |F     |Dollars|6        |Business Data Collection - BDC|Industry by financial variable|Sales (operating income)           |Furniture and Other Manufacturing                                          |Current prices|Unadjusted    |NULL          |\n",
            "|BDCQ.SF1PP1CA   |2016.06|608.795   |NULL      |F     |Dollars|6        |Business Data Collection - BDC|Industry by financial variable|Sales (operating income)           |Education and Training                                                     |Current prices|Unadjusted    |NULL          |\n",
            "|BDCQ.SF1RS2CA   |2016.06|2024.111  |NULL      |F     |Dollars|6        |Business Data Collection - BDC|Industry by financial variable|Sales (operating income)           |Other Services                                                             |Current prices|Unadjusted    |NULL          |\n",
            "|BDCQ.SF2AA2CA   |2016.06|726.611   |NULL      |F     |Dollars|6        |Business Data Collection - BDC|Industry by financial variable|Purchases and operating expenditure|Forestry and Logging                                                       |Current prices|Unadjusted    |NULL          |\n",
            "|BDCQ.SF1CC4CA   |2016.06|378.816   |NULL      |F     |Dollars|6        |Business Data Collection - BDC|Industry by financial variable|Sales (operating income)           |Printing                                                                   |Current prices|Unadjusted    |NULL          |\n",
            "|BDCQ.SF2AA3CA   |2016.06|763.095   |NULL      |F     |Dollars|6        |Business Data Collection - BDC|Industry by financial variable|Purchases and operating expenditure|Fishing, Aquaculture and Agriculture, Forestry and Fishing Support Services|Current prices|Unadjusted    |NULL          |\n",
            "|BDCQ.SF1CC2CA   |2016.06|586.399   |NULL      |F     |Dollars|6        |Business Data Collection - BDC|Industry by financial variable|Sales (operating income)           |Textile, Leather, Clothing and Footwear Manufacturing                      |Current prices|Unadjusted    |NULL          |\n",
            "+----------------+-------+----------+----------+------+-------+---------+------------------------------+------------------------------+-----------------------------------+---------------------------------------------------------------------------+--------------+--------------+--------------+\n",
            "only showing top 20 rows\n",
            "\n"
          ]
        }
      ]
    },
    {
      "cell_type": "code",
      "source": [
        "# Crear vista temporal a partir del dataframe\n",
        "df_p.createOrReplaceTempView(\"business_tbl\")"
      ],
      "metadata": {
        "id": "IRGeM9jU2A3q"
      },
      "execution_count": 23,
      "outputs": []
    },
    {
      "cell_type": "code",
      "source": [
        "result = spark.sql(\"SELECT Period, Data_value, Subject, Group, Series_title_2 FROM business_tbl WHERE Series_title_2 = 'Other Services'\")\n",
        "result.show(truncate=False)"
      ],
      "metadata": {
        "colab": {
          "base_uri": "https://localhost:8080/"
        },
        "id": "kOlbaIlj2kZb",
        "outputId": "d854e6f1-6395-4739-ebc2-4341a0c708ec"
      },
      "execution_count": 26,
      "outputs": [
        {
          "output_type": "stream",
          "name": "stdout",
          "text": [
            "+-------+----------+------------------------------+------------------------------+--------------+\n",
            "|Period |Data_value|Subject                       |Group                         |Series_title_2|\n",
            "+-------+----------+------------------------------+------------------------------+--------------+\n",
            "|2016.06|2024.111  |Business Data Collection - BDC|Industry by financial variable|Other Services|\n",
            "|2016.09|2130.915  |Business Data Collection - BDC|Industry by financial variable|Other Services|\n",
            "|2016.12|2212.397  |Business Data Collection - BDC|Industry by financial variable|Other Services|\n",
            "|2017.03|2106.601  |Business Data Collection - BDC|Industry by financial variable|Other Services|\n",
            "|2017.06|2214.264  |Business Data Collection - BDC|Industry by financial variable|Other Services|\n",
            "|2017.09|2272.563  |Business Data Collection - BDC|Industry by financial variable|Other Services|\n",
            "|2017.12|2304.067  |Business Data Collection - BDC|Industry by financial variable|Other Services|\n",
            "|2018.03|2159.722  |Business Data Collection - BDC|Industry by financial variable|Other Services|\n",
            "|2018.06|2395.334  |Business Data Collection - BDC|Industry by financial variable|Other Services|\n",
            "|2018.09|2434.241  |Business Data Collection - BDC|Industry by financial variable|Other Services|\n",
            "|2018.12|2441.75   |Business Data Collection - BDC|Industry by financial variable|Other Services|\n",
            "|2019.03|2366.432  |Business Data Collection - BDC|Industry by financial variable|Other Services|\n",
            "|2019.06|2520.395  |Business Data Collection - BDC|Industry by financial variable|Other Services|\n",
            "|2019.09|2562.344  |Business Data Collection - BDC|Industry by financial variable|Other Services|\n",
            "|2019.12|2553.098  |Business Data Collection - BDC|Industry by financial variable|Other Services|\n",
            "|2020.03|2364.816  |Business Data Collection - BDC|Industry by financial variable|Other Services|\n",
            "|2020.06|1934.127  |Business Data Collection - BDC|Industry by financial variable|Other Services|\n",
            "|2020.09|2505.344  |Business Data Collection - BDC|Industry by financial variable|Other Services|\n",
            "|2020.12|2674.758  |Business Data Collection - BDC|Industry by financial variable|Other Services|\n",
            "|2016.06|1384.423  |Business Data Collection - BDC|Industry by financial variable|Other Services|\n",
            "+-------+----------+------------------------------+------------------------------+--------------+\n",
            "only showing top 20 rows\n",
            "\n"
          ]
        }
      ]
    },
    {
      "cell_type": "code",
      "source": [
        "result = spark.sql(\"SELECT Subject, Group, Series_title_2, COUNT(*) as Conteo FROM business_tbl GROUP BY Subject, Group, Series_title_2\")\n",
        "result.show(truncate=False)"
      ],
      "metadata": {
        "colab": {
          "base_uri": "https://localhost:8080/"
        },
        "id": "YC9txVmb3HpE",
        "outputId": "8759ddd9-5210-4b23-ac0b-0148496aab68"
      },
      "execution_count": 27,
      "outputs": [
        {
          "output_type": "stream",
          "name": "stdout",
          "text": [
            "+------------------------------+------------------------------+---------------------------------------------------------------------------+------+\n",
            "|Subject                       |Group                         |Series_title_2                                                             |Conteo|\n",
            "+------------------------------+------------------------------+---------------------------------------------------------------------------+------+\n",
            "|Business Data Collection - BDC|Industry by financial variable|Printing                                                                   |76    |\n",
            "|Business Data Collection - BDC|Industry by financial variable|Transport, Postal and Warehousing                                          |76    |\n",
            "|Business Data Collection - BDC|Industry by financial variable|Transport Equipment, Machinery and Equipment Manufacturing                 |76    |\n",
            "|Business Data Collection - BDC|Industry by financial variable|Furniture and Other Manufacturing                                          |76    |\n",
            "|Business Data Collection - BDC|Industry by financial variable|Non-Metallic Mineral Product Manufacturing                                 |76    |\n",
            "|Business Data Collection - BDC|Industry by financial variable|Construction                                                               |76    |\n",
            "|Business Data Collection - BDC|Industry by financial variable|Mining                                                                     |76    |\n",
            "|Business Data Collection - BDC|Industry by financial variable|Wholesale Trade                                                            |76    |\n",
            "|Business Data Collection - BDC|Industry by financial variable|Other Services                                                             |76    |\n",
            "|Business Data Collection - BDC|Industry by financial variable|Petroleum, Chemical, Polymer and Rubber Product Manufacturing              |76    |\n",
            "|Business Data Collection - BDC|Industry by financial variable|Information Media and Telecommunications                                   |76    |\n",
            "|Business Data Collection - BDC|Industry by financial variable|Forestry and Logging                                                       |76    |\n",
            "|Business Data Collection - BDC|Industry by financial variable|Education and Training                                                     |76    |\n",
            "|Business Data Collection - BDC|Industry by financial variable|Fishing, Aquaculture and Agriculture, Forestry and Fishing Support Services|76    |\n",
            "|Business Data Collection - BDC|Industry by financial variable|Wood and Paper Products Manufacturing                                      |76    |\n",
            "|Business Data Collection - BDC|Industry by financial variable|Electricity, Gas, Water and Waste Services                                 |76    |\n",
            "|Business Data Collection - BDC|Industry by financial variable|Retail Trade                                                               |56    |\n",
            "|Business Data Collection - BDC|Industry by financial variable|Textile, Leather, Clothing and Footwear Manufacturing                      |76    |\n",
            "|Business Data Collection - BDC|Industry by financial variable|Administrative and Support Services                                        |76    |\n",
            "|Business Data Collection - BDC|Industry by financial variable|Professional, Scientific and Technical Services                            |76    |\n",
            "+------------------------------+------------------------------+---------------------------------------------------------------------------+------+\n",
            "only showing top 20 rows\n",
            "\n"
          ]
        }
      ]
    },
    {
      "cell_type": "code",
      "source": [
        "result = spark.sql(\"SELECT Period, COUNT(*) as Conteo FROM business_tbl GROUP BY Period ORDER BY Period\")\n",
        "result.show(truncate=False)"
      ],
      "metadata": {
        "colab": {
          "base_uri": "https://localhost:8080/"
        },
        "id": "aH1L8jDw32-L",
        "outputId": "45978357-6cba-4373-d092-816aadc4109e"
      },
      "execution_count": 30,
      "outputs": [
        {
          "output_type": "stream",
          "name": "stdout",
          "text": [
            "+-------+------+\n",
            "|Period |Conteo|\n",
            "+-------+------+\n",
            "|2016.06|96    |\n",
            "|2016.09|96    |\n",
            "|2016.12|96    |\n",
            "|2017.03|96    |\n",
            "|2017.06|96    |\n",
            "|2017.09|104   |\n",
            "|2017.12|104   |\n",
            "|2018.03|104   |\n",
            "|2018.06|104   |\n",
            "|2018.09|104   |\n",
            "|2018.12|104   |\n",
            "|2019.03|104   |\n",
            "|2019.06|104   |\n",
            "|2019.09|104   |\n",
            "|2019.12|104   |\n",
            "|2020.03|104   |\n",
            "|2020.06|104   |\n",
            "|2020.09|104   |\n",
            "|2020.12|104   |\n",
            "+-------+------+\n",
            "\n"
          ]
        }
      ]
    },
    {
      "cell_type": "markdown",
      "source": [
        "**Crear tabla a partir de un JSON**"
      ],
      "metadata": {
        "id": "-BCIzJnZ5qdk"
      }
    },
    {
      "cell_type": "code",
      "source": [
        "json_df = spark.read.json(\"/content/drive/MyDrive/Cursos/Hadoop y Spark/Data/example.json\", multiLine=True)"
      ],
      "metadata": {
        "id": "euZhebcB5s5N"
      },
      "execution_count": 40,
      "outputs": []
    },
    {
      "cell_type": "code",
      "source": [
        "json_df.printSchema()"
      ],
      "metadata": {
        "colab": {
          "base_uri": "https://localhost:8080/"
        },
        "id": "-wQ4aBDH5950",
        "outputId": "d7823300-8c17-4e31-e1db-af9e02f50c2f"
      },
      "execution_count": 41,
      "outputs": [
        {
          "output_type": "stream",
          "name": "stdout",
          "text": [
            "root\n",
            " |-- bio: string (nullable = true)\n",
            " |-- id: string (nullable = true)\n",
            " |-- language: string (nullable = true)\n",
            " |-- name: string (nullable = true)\n",
            " |-- version: double (nullable = true)\n",
            "\n"
          ]
        }
      ]
    },
    {
      "cell_type": "code",
      "source": [
        "selected_df = json_df.select('id', 'language', 'name', 'version')\n",
        "selected_df.show(truncate=False)"
      ],
      "metadata": {
        "colab": {
          "base_uri": "https://localhost:8080/"
        },
        "id": "AG3FcjuL7hcj",
        "outputId": "e8ce4218-49fd-48e9-a64c-0c34b5eaf738"
      },
      "execution_count": 43,
      "outputs": [
        {
          "output_type": "stream",
          "name": "stdout",
          "text": [
            "+----------------+----------------+-----------------+-------+\n",
            "|id              |language        |name             |version|\n",
            "+----------------+----------------+-----------------+-------+\n",
            "|V59OF92YF627HFY0|Sindhi          |Adeel Solangi    |6.1    |\n",
            "|ENTOCR13RSCLZ6KU|Sindhi          |Afzal Ghaffar    |1.88   |\n",
            "|IAKPO3R4761JDRVG|Sindhi          |Aamir Solangi    |7.27   |\n",
            "|5ZVOEPMJUI4MB4EN|Uyghur          |Abla Dilmurat    |2.53   |\n",
            "|6VTI8X6LL0MMPJCC|Uyghur          |Adil Eli         |6.49   |\n",
            "|F2KEU5L7EHYSYFTT|Uyghur          |Adile Qadir      |1.9    |\n",
            "|LO6DVTZLRK68528I|Uyghur          |Abdukerim Ibrahim|5.9    |\n",
            "|LJRIULRNJFCNZJAJ|Sindhi          |Adil Abro        |9.32   |\n",
            "|JMCL0CXNXHPL1GBC|Galician        |Afonso Vilarchán |5.21   |\n",
            "|KU4T500C830697CW|Maltese         |Mark Schembri    |3.17   |\n",
            "|XOF91ZR7MHV1TXRS|Galician        |Antía Sixirei    |6.44   |\n",
            "|FTSNV411G5MKLPDT|Uyghur          |Aygul Mutellip   |9.1    |\n",
            "|OJMWMEEQWMLDU29P|Sindhi          |Awais Shaikh     |1.59   |\n",
            "|5G646V7E6TJW8X2M|Sindhi          |Ambreen Ahmed    |2.35   |\n",
            "|Z53AJY7WUYPLAWC9|Galician        |Celtia Anes      |8.34   |\n",
            "|N1AS6UFULO6WGTLB|Maltese         |George Mifsud    |7.47   |\n",
            "|70RODUVRD95CLOJL|Uyghur          |Aytürk Qasim     |1.32   |\n",
            "|VBLI24FKF7VV6BWE|Sesotho sa Leboa|Dialè Meso       |6.29   |\n",
            "|4VRLON0GPEZYFCVL|Galician        |Breixo Galáns    |1.62   |\n",
            "|5DRDI1QLRGLP29RC|Galician        |Bieito Lorme     |4.45   |\n",
            "+----------------+----------------+-----------------+-------+\n",
            "only showing top 20 rows\n",
            "\n"
          ]
        }
      ]
    },
    {
      "cell_type": "code",
      "source": [
        "# Crear vista temporal a partir del dataframe\n",
        "json_df.createOrReplaceTempView(\"example_tbl\")"
      ],
      "metadata": {
        "id": "R53sgf_B8FkU"
      },
      "execution_count": 44,
      "outputs": []
    },
    {
      "cell_type": "code",
      "source": [
        "result = spark.sql(\"SELECT language, COUNT(*) as Conteo FROM example_tbl GROUP BY language ORDER BY language\")\n",
        "result.show(truncate=False)"
      ],
      "metadata": {
        "colab": {
          "base_uri": "https://localhost:8080/"
        },
        "id": "Z7LejMJB8MyT",
        "outputId": "045c224e-ba64-4905-9b7c-84a29345c953"
      },
      "execution_count": 45,
      "outputs": [
        {
          "output_type": "stream",
          "name": "stdout",
          "text": [
            "+----------------+------+\n",
            "|language        |Conteo|\n",
            "+----------------+------+\n",
            "|Bosnian         |1120  |\n",
            "|Galician        |1520  |\n",
            "|Hindi           |3340  |\n",
            "|Icelandic       |1280  |\n",
            "|Maltese         |1600  |\n",
            "|Sesotho sa Leboa|1600  |\n",
            "|Setswana        |1280  |\n",
            "|Sindhi          |1520  |\n",
            "|Uyghur          |1600  |\n",
            "|isiZulu         |980   |\n",
            "+----------------+------+\n",
            "\n"
          ]
        }
      ]
    },
    {
      "cell_type": "code",
      "source": [
        "result = spark.sql(\"SELECT id, language, name, version FROM example_tbl WHERE name LIKE 'A%'\")\n",
        "result.show(truncate=False)"
      ],
      "metadata": {
        "colab": {
          "base_uri": "https://localhost:8080/"
        },
        "id": "kmczxOw98o_T",
        "outputId": "82fb984a-bb7a-4d6c-e2ea-7a4708996e5b"
      },
      "execution_count": 46,
      "outputs": [
        {
          "output_type": "stream",
          "name": "stdout",
          "text": [
            "+----------------+--------+-----------------+-------+\n",
            "|id              |language|name             |version|\n",
            "+----------------+--------+-----------------+-------+\n",
            "|V59OF92YF627HFY0|Sindhi  |Adeel Solangi    |6.1    |\n",
            "|ENTOCR13RSCLZ6KU|Sindhi  |Afzal Ghaffar    |1.88   |\n",
            "|IAKPO3R4761JDRVG|Sindhi  |Aamir Solangi    |7.27   |\n",
            "|5ZVOEPMJUI4MB4EN|Uyghur  |Abla Dilmurat    |2.53   |\n",
            "|6VTI8X6LL0MMPJCC|Uyghur  |Adil Eli         |6.49   |\n",
            "|F2KEU5L7EHYSYFTT|Uyghur  |Adile Qadir      |1.9    |\n",
            "|LO6DVTZLRK68528I|Uyghur  |Abdukerim Ibrahim|5.9    |\n",
            "|LJRIULRNJFCNZJAJ|Sindhi  |Adil Abro        |9.32   |\n",
            "|JMCL0CXNXHPL1GBC|Galician|Afonso Vilarchán |5.21   |\n",
            "|XOF91ZR7MHV1TXRS|Galician|Antía Sixirei    |6.44   |\n",
            "|FTSNV411G5MKLPDT|Uyghur  |Aygul Mutellip   |9.1    |\n",
            "|OJMWMEEQWMLDU29P|Sindhi  |Awais Shaikh     |1.59   |\n",
            "|5G646V7E6TJW8X2M|Sindhi  |Ambreen Ahmed    |2.35   |\n",
            "|70RODUVRD95CLOJL|Uyghur  |Aytürk Qasim     |1.32   |\n",
            "|5RCTVD3C5QGVAKTQ|Uyghur  |Azrugul Osman    |3.18   |\n",
            "|3WNLUZ5LT2F7MYVU|Sindhi  |Ali Ayaz         |7.8    |\n",
            "|XLLVD0NO2ZFEP4AK|Sindhi  |Anita Rajput     |5.16   |\n",
            "|Q9A5QNGA0OSU8P6Y|Sindhi  |Ayesha Khalique  |3.9    |\n",
            "|ENTAPNU3MMFUGM1W|Galician|Antón Caneiro    |4.84   |\n",
            "|CRYN52CXKNJU0YXU|Sindhi  |Aneela Mohan     |4.45   |\n",
            "+----------------+--------+-----------------+-------+\n",
            "only showing top 20 rows\n",
            "\n"
          ]
        }
      ]
    },
    {
      "cell_type": "code",
      "source": [
        "result = spark.sql(\"SELECT language, MAX(version) as Maximo, MIN(version) as Minimo FROM example_tbl GROUP BY language\")\n",
        "result.show(truncate=False)"
      ],
      "metadata": {
        "colab": {
          "base_uri": "https://localhost:8080/"
        },
        "id": "VIjhWSOK9KJK",
        "outputId": "bd5e566f-8099-4426-9999-f7dcc5e78efb"
      },
      "execution_count": 49,
      "outputs": [
        {
          "output_type": "stream",
          "name": "stdout",
          "text": [
            "+----------------+------+------+\n",
            "|language        |Maximo|Minimo|\n",
            "+----------------+------+------+\n",
            "|Maltese         |9.97  |2.09  |\n",
            "|Icelandic       |9.59  |2.09  |\n",
            "|isiZulu         |9.37  |1.18  |\n",
            "|Uyghur          |9.1   |1.01  |\n",
            "|Bosnian         |9.56  |1.06  |\n",
            "|Sindhi          |9.48  |1.4   |\n",
            "|Setswana        |9.07  |1.07  |\n",
            "|Hindi           |9.99  |1.08  |\n",
            "|Sesotho sa Leboa|9.55  |1.88  |\n",
            "|Galician        |9.33  |1.08  |\n",
            "+----------------+------+------+\n",
            "\n"
          ]
        }
      ]
    },
    {
      "cell_type": "code",
      "source": [
        "# Detener spark session\n",
        "spark.stop()"
      ],
      "metadata": {
        "id": "9SMUNpQS-BKb"
      },
      "execution_count": 50,
      "outputs": []
    }
  ]
}